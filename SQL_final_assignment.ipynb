{
  "nbformat": 4,
  "nbformat_minor": 0,
  "metadata": {
    "colab": {
      "provenance": [],
      "authorship_tag": "ABX9TyMr4dlBVyRemlvJhFZ9VQQu",
      "include_colab_link": true
    },
    "kernelspec": {
      "name": "python3",
      "display_name": "Python 3"
    },
    "language_info": {
      "name": "python"
    }
  },
  "cells": [
    {
      "cell_type": "markdown",
      "metadata": {
        "id": "view-in-github",
        "colab_type": "text"
      },
      "source": [
        "<a href=\"https://colab.research.google.com/github/Zekru69/-Hands-on-Lab-Getting-Started-with-GitHub/blob/main/SQL_final_assignment.ipynb\" target=\"_parent\"><img src=\"https://colab.research.google.com/assets/colab-badge.svg\" alt=\"Open In Colab\"/></a>"
      ]
    },
    {
      "cell_type": "code",
      "execution_count": 1,
      "metadata": {
        "colab": {
          "base_uri": "https://localhost:8080/"
        },
        "id": "mWvvc4x4nEK7",
        "outputId": "79a9e7cd-ffbb-4edb-ab29-bd7601114586"
      },
      "outputs": [
        {
          "output_type": "stream",
          "name": "stdout",
          "text": [
            "Requirement already satisfied: ipython-sql in /usr/local/lib/python3.11/dist-packages (0.5.0)\n",
            "Requirement already satisfied: prettytable in /usr/local/lib/python3.11/dist-packages (3.16.0)\n",
            "Requirement already satisfied: ipython in /usr/local/lib/python3.11/dist-packages (from ipython-sql) (7.34.0)\n",
            "Requirement already satisfied: sqlalchemy>=2.0 in /usr/local/lib/python3.11/dist-packages (from ipython-sql) (2.0.40)\n",
            "Requirement already satisfied: sqlparse in /usr/local/lib/python3.11/dist-packages (from ipython-sql) (0.5.3)\n",
            "Requirement already satisfied: six in /usr/local/lib/python3.11/dist-packages (from ipython-sql) (1.17.0)\n",
            "Requirement already satisfied: ipython-genutils in /usr/local/lib/python3.11/dist-packages (from ipython-sql) (0.2.0)\n",
            "Requirement already satisfied: wcwidth in /usr/local/lib/python3.11/dist-packages (from prettytable) (0.2.13)\n",
            "Requirement already satisfied: greenlet>=1 in /usr/local/lib/python3.11/dist-packages (from sqlalchemy>=2.0->ipython-sql) (3.1.1)\n",
            "Requirement already satisfied: typing-extensions>=4.6.0 in /usr/local/lib/python3.11/dist-packages (from sqlalchemy>=2.0->ipython-sql) (4.13.0)\n",
            "Requirement already satisfied: setuptools>=18.5 in /usr/local/lib/python3.11/dist-packages (from ipython->ipython-sql) (75.2.0)\n",
            "Collecting jedi>=0.16 (from ipython->ipython-sql)\n",
            "  Downloading jedi-0.19.2-py2.py3-none-any.whl.metadata (22 kB)\n",
            "Requirement already satisfied: decorator in /usr/local/lib/python3.11/dist-packages (from ipython->ipython-sql) (4.4.2)\n",
            "Requirement already satisfied: pickleshare in /usr/local/lib/python3.11/dist-packages (from ipython->ipython-sql) (0.7.5)\n",
            "Requirement already satisfied: traitlets>=4.2 in /usr/local/lib/python3.11/dist-packages (from ipython->ipython-sql) (5.7.1)\n",
            "Requirement already satisfied: prompt-toolkit!=3.0.0,!=3.0.1,<3.1.0,>=2.0.0 in /usr/local/lib/python3.11/dist-packages (from ipython->ipython-sql) (3.0.50)\n",
            "Requirement already satisfied: pygments in /usr/local/lib/python3.11/dist-packages (from ipython->ipython-sql) (2.18.0)\n",
            "Requirement already satisfied: backcall in /usr/local/lib/python3.11/dist-packages (from ipython->ipython-sql) (0.2.0)\n",
            "Requirement already satisfied: matplotlib-inline in /usr/local/lib/python3.11/dist-packages (from ipython->ipython-sql) (0.1.7)\n",
            "Requirement already satisfied: pexpect>4.3 in /usr/local/lib/python3.11/dist-packages (from ipython->ipython-sql) (4.9.0)\n",
            "Requirement already satisfied: parso<0.9.0,>=0.8.4 in /usr/local/lib/python3.11/dist-packages (from jedi>=0.16->ipython->ipython-sql) (0.8.4)\n",
            "Requirement already satisfied: ptyprocess>=0.5 in /usr/local/lib/python3.11/dist-packages (from pexpect>4.3->ipython->ipython-sql) (0.7.0)\n",
            "Downloading jedi-0.19.2-py2.py3-none-any.whl (1.6 MB)\n",
            "\u001b[2K   \u001b[90m━━━━━━━━━━━━━━━━━━━━━━━━━━━━━━━━━━━━━━━━\u001b[0m \u001b[32m1.6/1.6 MB\u001b[0m \u001b[31m4.0 MB/s\u001b[0m eta \u001b[36m0:00:00\u001b[0m\n",
            "\u001b[?25hInstalling collected packages: jedi\n",
            "Successfully installed jedi-0.19.2\n"
          ]
        }
      ],
      "source": [
        "!pip install ipython-sql prettytable\n",
        "\n",
        "import prettytable\n",
        "\n",
        "\n",
        "prettytable.DEFAULT = 'DEFAULT'"
      ]
    },
    {
      "cell_type": "code",
      "source": [
        "!pip install pandas\n",
        "import pandas as pd\n",
        "import sqlite3\n",
        "\n",
        "# Establish a connection to the SQLite database\n",
        "conn = sqlite3.connect('FinalDB.db')\n",
        "\n",
        "print(\"Connection to FinalDB.db established successfully.\")"
      ],
      "metadata": {
        "colab": {
          "base_uri": "https://localhost:8080/"
        },
        "id": "wfEajxmMnXBQ",
        "outputId": "2933e781-988b-4f85-c995-3c5ba9f2168c"
      },
      "execution_count": 2,
      "outputs": [
        {
          "output_type": "stream",
          "name": "stdout",
          "text": [
            "Requirement already satisfied: pandas in /usr/local/lib/python3.11/dist-packages (2.2.2)\n",
            "Requirement already satisfied: numpy>=1.23.2 in /usr/local/lib/python3.11/dist-packages (from pandas) (2.0.2)\n",
            "Requirement already satisfied: python-dateutil>=2.8.2 in /usr/local/lib/python3.11/dist-packages (from pandas) (2.8.2)\n",
            "Requirement already satisfied: pytz>=2020.1 in /usr/local/lib/python3.11/dist-packages (from pandas) (2025.2)\n",
            "Requirement already satisfied: tzdata>=2022.7 in /usr/local/lib/python3.11/dist-packages (from pandas) (2025.2)\n",
            "Requirement already satisfied: six>=1.5 in /usr/local/lib/python3.11/dist-packages (from python-dateutil>=2.8.2->pandas) (1.17.0)\n",
            "Connection to FinalDB.db established successfully.\n"
          ]
        }
      ]
    },
    {
      "cell_type": "code",
      "source": [
        "%load_ext sql"
      ],
      "metadata": {
        "id": "8yeQhSHQnd76"
      },
      "execution_count": 3,
      "outputs": []
    },
    {
      "cell_type": "code",
      "source": [
        "import pandas as pd\n",
        "import sqlite3\n",
        "\n",
        "# Load data into Pandas dataframes\n",
        "census_data = pd.read_csv('/content/ChicagoCensusData.csv')\n",
        "chicago_public_schools = pd.read_csv('/content/ChicagoPublicSchools.csv')\n",
        "chicago_crime_data = pd.read_csv('/content/ChicagoCrimeData.csv')\n",
        "\n",
        "# Establish a connection to the SQLite database\n",
        "conn = sqlite3.connect('FinalDB.db')\n",
        "\n",
        "# Load dataframes into the database as tables\n",
        "census_data.to_sql('CENSUS_DATA', conn, if_exists='replace', index=False)\n",
        "chicago_public_schools.to_sql('CHICAGO_PUBLIC_SCHOOLS', conn, if_exists='replace', index=False)\n",
        "chicago_crime_data.to_sql('CHICAGO_CRIME_DATA', conn, if_exists='replace', index=False)\n",
        "\n",
        "print(\"Data loaded into FinalDB.db successfully.\")"
      ],
      "metadata": {
        "colab": {
          "base_uri": "https://localhost:8080/"
        },
        "id": "95zc3K2anigR",
        "outputId": "05fc64e4-7515-4da7-eb54-98f0cfb88d1d"
      },
      "execution_count": 4,
      "outputs": [
        {
          "output_type": "stream",
          "name": "stdout",
          "text": [
            "Data loaded into FinalDB.db successfully.\n"
          ]
        }
      ]
    },
    {
      "cell_type": "markdown",
      "source": [
        "Problem 1\n",
        "Find the total number of crimes recorded in the CRIME table"
      ],
      "metadata": {
        "id": "uY9XhGAirQ94"
      }
    },
    {
      "cell_type": "code",
      "source": [
        "import sqlite3\n",
        "\n",
        "# Establish connection\n",
        "conn = sqlite3.connect('FinalDB.db')\n",
        "\n",
        "# Create a cursor object\n",
        "cursor = conn.cursor()\n",
        "\n",
        "# SQL query to count total crimes\n",
        "query = \"SELECT COUNT(*) FROM CHICAGO_CRIME_DATA;\"\n",
        "\n",
        "# Execute the query\n",
        "cursor.execute(query)\n",
        "\n",
        "# Fetch result\n",
        "total_crimes = cursor.fetchone()[0]\n",
        "\n",
        "print(f\"Total number of crimes recorded: {total_crimes}\")\n",
        "\n",
        "# Close connection\n",
        "conn.close()\n"
      ],
      "metadata": {
        "colab": {
          "base_uri": "https://localhost:8080/"
        },
        "id": "GtUnr2hlpRlO",
        "outputId": "ed59f860-3f80-4562-9c3a-84eee77954a5"
      },
      "execution_count": 7,
      "outputs": [
        {
          "output_type": "stream",
          "name": "stdout",
          "text": [
            "Total number of crimes recorded: 533\n"
          ]
        }
      ]
    },
    {
      "cell_type": "markdown",
      "source": [
        "Problem 2\n",
        "List community area names and numbers with per capita income less than 11000."
      ],
      "metadata": {
        "id": "r_CyrFeYrYlZ"
      }
    },
    {
      "cell_type": "code",
      "source": [
        "import sqlite3\n",
        "import pandas as pd\n",
        "\n",
        "# Establish connection\n",
        "conn = sqlite3.connect('FinalDB.db')\n",
        "\n",
        "# Define SQL query\n",
        "query = \"\"\"\n",
        "SELECT COMMUNITY_AREA_NUMBER, COMMUNITY_AREA_NAME, PER_CAPITA_INCOME\n",
        "FROM CENSUS_DATA\n",
        "WHERE PER_CAPITA_INCOME < 11000;\n",
        "\"\"\"\n",
        "\n",
        "# Execute the query and load results into a DataFrame\n",
        "df = pd.read_sql(query, conn)\n",
        "\n",
        "# Display the result\n",
        "print(df)\n",
        "\n",
        "# Close the connection\n",
        "conn.close()\n"
      ],
      "metadata": {
        "colab": {
          "base_uri": "https://localhost:8080/"
        },
        "id": "uoU3oH-dpcK-",
        "outputId": "9141a8ea-3594-4c55-c30a-543bb396b7d8"
      },
      "execution_count": 8,
      "outputs": [
        {
          "output_type": "stream",
          "name": "stdout",
          "text": [
            "   COMMUNITY_AREA_NUMBER COMMUNITY_AREA_NAME  PER_CAPITA_INCOME\n",
            "0                   26.0  West Garfield Park              10934\n",
            "1                   30.0      South Lawndale              10402\n",
            "2                   37.0         Fuller Park              10432\n",
            "3                   54.0           Riverdale               8201\n"
          ]
        }
      ]
    },
    {
      "cell_type": "markdown",
      "source": [
        "Problem 3\n",
        "List all case numbers for crimes involving minors?(children are not considered minors for the purposes of crime analysis)"
      ],
      "metadata": {
        "id": "mLnRiS9Hrdr1"
      }
    },
    {
      "cell_type": "code",
      "source": [
        "import sqlite3\n",
        "import pandas as pd\n",
        "\n",
        "# Connect to SQLite database\n",
        "conn = sqlite3.connect('FinalDB.db')\n",
        "\n",
        "# Define SQL query\n",
        "query = \"\"\"\n",
        "SELECT CASE_NUMBER, PRIMARY_TYPE, DESCRIPTION\n",
        "FROM CHICAGO_CRIME_DATA\n",
        "WHERE DESCRIPTION LIKE '%MINOR%';\n",
        "\"\"\"\n",
        "\n",
        "# Execute the query and store results in a DataFrame\n",
        "df = pd.read_sql(query, conn)\n",
        "\n",
        "# Display results\n",
        "print(df)\n",
        "\n",
        "# Close connection\n",
        "conn.close()\n"
      ],
      "metadata": {
        "colab": {
          "base_uri": "https://localhost:8080/"
        },
        "id": "StrfzMRJpnLs",
        "outputId": "ccd488f8-e4d8-4f41-8125-f156c146f4b0"
      },
      "execution_count": 9,
      "outputs": [
        {
          "output_type": "stream",
          "name": "stdout",
          "text": [
            "  CASE_NUMBER          PRIMARY_TYPE                    DESCRIPTION\n",
            "0    HL266884  LIQUOR LAW VIOLATION  SELL/GIVE/DEL LIQUOR TO MINOR\n",
            "1    HK238408  LIQUOR LAW VIOLATION   ILLEGAL CONSUMPTION BY MINOR\n"
          ]
        }
      ]
    },
    {
      "cell_type": "markdown",
      "source": [
        "Problem 4\n",
        "List all kidnapping crimes involving a child?"
      ],
      "metadata": {
        "id": "A3aTCsWGrhye"
      }
    },
    {
      "cell_type": "code",
      "source": [
        "import sqlite3\n",
        "import pandas as pd\n",
        "\n",
        "# Connect to SQLite database\n",
        "conn = sqlite3.connect('FinalDB.db')\n",
        "\n",
        "# Define SQL query\n",
        "query = \"\"\"\n",
        "SELECT CASE_NUMBER, PRIMARY_TYPE, DESCRIPTION\n",
        "FROM CHICAGO_CRIME_DATA\n",
        "WHERE PRIMARY_TYPE = 'KIDNAPPING' AND DESCRIPTION LIKE '%CHILD%';\n",
        "\"\"\"\n",
        "\n",
        "# Execute query and store results in a DataFrame\n",
        "df = pd.read_sql(query, conn)\n",
        "\n",
        "# Display results\n",
        "print(df)\n",
        "\n",
        "# Close connection\n",
        "conn.close()\n"
      ],
      "metadata": {
        "colab": {
          "base_uri": "https://localhost:8080/"
        },
        "id": "Fa5OvJaypwp8",
        "outputId": "d97e8221-f622-4e28-cc0c-be14e2a74d98"
      },
      "execution_count": 10,
      "outputs": [
        {
          "output_type": "stream",
          "name": "stdout",
          "text": [
            "  CASE_NUMBER PRIMARY_TYPE               DESCRIPTION\n",
            "0    HN144152   KIDNAPPING  CHILD ABDUCTION/STRANGER\n"
          ]
        }
      ]
    },
    {
      "cell_type": "markdown",
      "source": [
        "Problem 5\n",
        "List the kind of crimes that were recorded at schools. (No repetitions)"
      ],
      "metadata": {
        "id": "fFfZEjKTrl4G"
      }
    },
    {
      "cell_type": "code",
      "source": [
        "import sqlite3\n",
        "import pandas as pd\n",
        "\n",
        "# Connect to SQLite database\n",
        "conn = sqlite3.connect('FinalDB.db')\n",
        "\n",
        "# Define SQL query\n",
        "query = \"\"\"\n",
        "SELECT DISTINCT PRIMARY_TYPE\n",
        "FROM CHICAGO_CRIME_DATA\n",
        "WHERE LOCATION_DESCRIPTION LIKE '%SCHOOL%';\n",
        "\"\"\"\n",
        "\n",
        "# Execute query and store results in a DataFrame\n",
        "df = pd.read_sql(query, conn)\n",
        "\n",
        "# Display results\n",
        "print(df)\n",
        "\n",
        "# Close connection\n",
        "conn.close()\n"
      ],
      "metadata": {
        "colab": {
          "base_uri": "https://localhost:8080/"
        },
        "id": "0PxLuwWHqAij",
        "outputId": "63e0d5ec-fdb1-4bf7-ff68-f8ef98ac2a70"
      },
      "execution_count": 11,
      "outputs": [
        {
          "output_type": "stream",
          "name": "stdout",
          "text": [
            "             PRIMARY_TYPE\n",
            "0                 BATTERY\n",
            "1         CRIMINAL DAMAGE\n",
            "2               NARCOTICS\n",
            "3                 ASSAULT\n",
            "4       CRIMINAL TRESPASS\n",
            "5  PUBLIC PEACE VIOLATION\n"
          ]
        }
      ]
    },
    {
      "cell_type": "markdown",
      "source": [
        "Problem 6\n",
        "List the type of schools along with the average safety score for each type."
      ],
      "metadata": {
        "id": "n3wCqq1zrqne"
      }
    },
    {
      "cell_type": "code",
      "source": [
        "import sqlite3\n",
        "import pandas as pd\n",
        "\n",
        "# Connect to SQLite database\n",
        "conn = sqlite3.connect('FinalDB.db')\n",
        "\n",
        "# Define SQL query\n",
        "query = \"\"\"\n",
        "SELECT \"School_Type\", AVG(\"Safety_Score\") AS Average_Safety_Score\n",
        "FROM CHICAGO_PUBLIC_SCHOOLS\n",
        "GROUP BY \"School_Type\";\n",
        "\"\"\"\n",
        "\n",
        "# Execute query and store results in a DataFrame\n",
        "df = pd.read_sql(query, conn)\n",
        "\n",
        "# Display results\n",
        "print(df)\n",
        "\n",
        "# Close connection\n",
        "conn.close()\n"
      ],
      "metadata": {
        "colab": {
          "base_uri": "https://localhost:8080/"
        },
        "id": "27bIk28PqJcb",
        "outputId": "474a8b43-81b4-410b-ed38-bf70fc582483"
      },
      "execution_count": 12,
      "outputs": [
        {
          "output_type": "stream",
          "name": "stdout",
          "text": [
            "  \"School_Type\"  Average_Safety_Score\n",
            "0   School_Type             49.504873\n"
          ]
        }
      ]
    },
    {
      "cell_type": "markdown",
      "source": [
        "Problem 7\n",
        "List 5 community areas with highest % of households below poverty line"
      ],
      "metadata": {
        "id": "i4ctFI-oqXBU"
      }
    },
    {
      "cell_type": "code",
      "source": [
        "import sqlite3\n",
        "import pandas as pd\n",
        "\n",
        "# Connect to SQLite database\n",
        "conn = sqlite3.connect('FinalDB.db')\n",
        "\n",
        "# Define SQL query\n",
        "query = \"\"\"\n",
        "SELECT COMMUNITY_AREA_NUMBER, COMMUNITY_AREA_NAME, PERCENT_HOUSEHOLDS_BELOW_POVERTY\n",
        "FROM CENSUS_DATA\n",
        "ORDER BY PERCENT_HOUSEHOLDS_BELOW_POVERTY DESC\n",
        "LIMIT 5;\n",
        "\"\"\"\n",
        "\n",
        "# Execute query and store results in a DataFrame\n",
        "df = pd.read_sql(query, conn)\n",
        "\n",
        "# Display results\n",
        "print(df)\n",
        "\n",
        "# Close connection\n",
        "conn.close()\n"
      ],
      "metadata": {
        "colab": {
          "base_uri": "https://localhost:8080/"
        },
        "id": "P8J32PZZqZJX",
        "outputId": "60167dad-4c12-47f3-f5b1-6092df20232a"
      },
      "execution_count": 13,
      "outputs": [
        {
          "output_type": "stream",
          "name": "stdout",
          "text": [
            "   COMMUNITY_AREA_NUMBER COMMUNITY_AREA_NAME  PERCENT_HOUSEHOLDS_BELOW_POVERTY\n",
            "0                   54.0           Riverdale                              56.5\n",
            "1                   37.0         Fuller Park                              51.2\n",
            "2                   68.0           Englewood                              46.6\n",
            "3                   29.0      North Lawndale                              43.1\n",
            "4                   27.0  East Garfield Park                              42.4\n"
          ]
        }
      ]
    },
    {
      "cell_type": "markdown",
      "source": [
        "Problem 8\n",
        "Which community area is most crime prone? Display the coumminty area number only."
      ],
      "metadata": {
        "id": "OqoTvNgXqa0X"
      }
    },
    {
      "cell_type": "code",
      "source": [
        "import sqlite3\n",
        "\n",
        "# Connect to SQLite database\n",
        "conn = sqlite3.connect('FinalDB.db')\n",
        "\n",
        "# Define SQL query\n",
        "query = \"\"\"\n",
        "SELECT COMMUNITY_AREA_NUMBER\n",
        "FROM CHICAGO_CRIME_DATA\n",
        "GROUP BY COMMUNITY_AREA_NUMBER\n",
        "ORDER BY COUNT(*) DESC\n",
        "LIMIT 1;\n",
        "\"\"\"\n",
        "\n",
        "# Execute the query\n",
        "cursor = conn.cursor()\n",
        "cursor.execute(query)\n",
        "\n",
        "# Fetch result\n",
        "most_crime_prone_area = cursor.fetchone()[0]\n",
        "\n",
        "print(f\"The most crime-prone community area number is: {most_crime_prone_area}\")\n",
        "\n",
        "# Close connection\n",
        "conn.close()\n"
      ],
      "metadata": {
        "colab": {
          "base_uri": "https://localhost:8080/"
        },
        "id": "hEhHYrXHqcfq",
        "outputId": "81a5ad51-66c9-4fa6-8f54-cb84b4383d14"
      },
      "execution_count": 14,
      "outputs": [
        {
          "output_type": "stream",
          "name": "stdout",
          "text": [
            "The most crime-prone community area number is: 25.0\n"
          ]
        }
      ]
    },
    {
      "cell_type": "markdown",
      "source": [
        "Problem 9\n",
        "Use a sub-query to find the name of the community area with highest hardship index."
      ],
      "metadata": {
        "id": "UMLdpJi7qu-_"
      }
    },
    {
      "cell_type": "code",
      "source": [
        "import sqlite3\n",
        "\n",
        "# Connect to SQLite database\n",
        "conn = sqlite3.connect('FinalDB.db')\n",
        "\n",
        "# Define SQL query\n",
        "query = \"\"\"\n",
        "SELECT COMMUNITY_AREA_NAME\n",
        "FROM CENSUS_DATA\n",
        "WHERE HARDSHIP_INDEX = (SELECT MAX(HARDSHIP_INDEX) FROM CENSUS_DATA);\n",
        "\"\"\"\n",
        "\n",
        "# Execute query\n",
        "cursor = conn.cursor()\n",
        "cursor.execute(query)\n",
        "\n",
        "# Fetch result\n",
        "highest_hardship_area = cursor.fetchone()[0]\n",
        "\n",
        "print(f\"The community area with the highest hardship index is: {highest_hardship_area}\")\n",
        "\n",
        "# Close connection\n",
        "conn.close()\n"
      ],
      "metadata": {
        "colab": {
          "base_uri": "https://localhost:8080/"
        },
        "id": "4zhg-VcJqzyV",
        "outputId": "3cbc88b2-095c-4b58-843a-547c750ac05b"
      },
      "execution_count": 16,
      "outputs": [
        {
          "output_type": "stream",
          "name": "stdout",
          "text": [
            "The community area with the highest hardship index is: Riverdale\n"
          ]
        }
      ]
    },
    {
      "cell_type": "markdown",
      "source": [
        "Problem 10\n",
        "Use a sub-query to determine the Community Area Name with most number of crimes?"
      ],
      "metadata": {
        "id": "4Xxwno1BrDFm"
      }
    },
    {
      "cell_type": "code",
      "source": [
        "import sqlite3\n",
        "\n",
        "# Connect to SQLite database\n",
        "conn = sqlite3.connect('FinalDB.db')\n",
        "\n",
        "# Define SQL query\n",
        "query = \"\"\"\n",
        "SELECT COMMUNITY_AREA_NAME\n",
        "FROM CENSUS_DATA\n",
        "WHERE COMMUNITY_AREA_NUMBER = (\n",
        "    SELECT COMMUNITY_AREA_NUMBER\n",
        "    FROM CHICAGO_CRIME_DATA\n",
        "    GROUP BY COMMUNITY_AREA_NUMBER\n",
        "    ORDER BY COUNT(*) DESC\n",
        "    LIMIT 1\n",
        ");\n",
        "\"\"\"\n",
        "\n",
        "# Execute query\n",
        "cursor = conn.cursor()\n",
        "cursor.execute(query)\n",
        "\n",
        "# Fetch result\n",
        "most_crime_prone_area = cursor.fetchone()[0]\n",
        "\n",
        "print(f\"The community area with the most crimes is: {most_crime_prone_area}\")\n",
        "\n",
        "# Close connection\n",
        "conn.close()\n"
      ],
      "metadata": {
        "colab": {
          "base_uri": "https://localhost:8080/"
        },
        "id": "c0Q07JVZrEdL",
        "outputId": "d68fc492-58a8-4859-b17e-4b566f252324"
      },
      "execution_count": 17,
      "outputs": [
        {
          "output_type": "stream",
          "name": "stdout",
          "text": [
            "The community area with the most crimes is: Austin\n"
          ]
        }
      ]
    }
  ]
}